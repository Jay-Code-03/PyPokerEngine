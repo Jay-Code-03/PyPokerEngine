{
 "cells": [
  {
   "cell_type": "code",
   "execution_count": 48,
   "metadata": {},
   "outputs": [],
   "source": [
    "from pypokerengine.api.game import setup_config, start_poker\n",
    "from pypokerengine.players import BasePokerPlayer\n",
    "from fish_player import FishPlayer\n",
    "from pypokerengine.utils.card_utils import estimate_hole_card_win_rate, gen_cards\n",
    "from pypokerengine.api.emulator import Emulator"
   ]
  },
  {
   "cell_type": "code",
   "execution_count": 47,
   "metadata": {},
   "outputs": [
    {
     "data": {
      "text/plain": [
       "0.837"
      ]
     },
     "execution_count": 47,
     "metadata": {},
     "output_type": "execute_result"
    }
   ],
   "source": [
    "hole_card = gen_cards(['H4', 'D7'])\n",
    "community_card = gen_cards(['D3', 'C5', 'C6'])\n",
    "estimate_hole_card_win_rate(nb_simulation=1000, nb_player=3, hole_card=hole_card, community_card=community_card)"
   ]
  },
  {
   "cell_type": "code",
   "execution_count": 60,
   "metadata": {},
   "outputs": [],
   "source": [
    "class PokerBot(BasePokerPlayer):\n",
    "    def __init__(self):\n",
    "        super().__init__()\n",
    "\n",
    "    def declare_action(self, valid_actions, hole_card, round_state):\n",
    "        # valid_actions format => [raise_action_info, call_action_info, fold_action_info]\n",
    "        if self.strong_hand(valid_actions, hole_card, round_state):\n",
    "            action = \"raise\"\n",
    "            amount = valid_actions[2][\"amount\"][\"min\"]\n",
    "        else:\n",
    "            action = \"call\"\n",
    "            amount = valid_actions[1][\"amount\"]\n",
    "        return action, amount\n",
    "    \n",
    "    def strong_hand(self, valid_actions, hole_card, round_state):\n",
    "        win_rate = estimate_hole_card_win_rate(\n",
    "        nb_simulation=1000,\n",
    "        nb_player=2,\n",
    "        hole_card=gen_cards(hole_card),\n",
    "        community_card=gen_cards(round_state['community_card'])\n",
    "    )\n",
    "        if win_rate >= 0.6:\n",
    "            return True\n",
    "        else:\n",
    "            return False\n",
    "    \n",
    "\n",
    "    def receive_game_start_message(self, game_info):\n",
    "        pass\n",
    "\n",
    "    def receive_round_start_message(self, round_count, hole_card, seats):\n",
    "        pass\n",
    "\n",
    "    def receive_street_start_message(self, street, round_state):\n",
    "        pass\n",
    "\n",
    "    def receive_game_update_message(self, action, round_state):\n",
    "        pass\n",
    "\n",
    "    def receive_round_result_message(self, winners, hand_info, round_state):\n",
    "        pass"
   ]
  },
  {
   "cell_type": "code",
   "execution_count": 45,
   "metadata": {},
   "outputs": [],
   "source": [
    "config = setup_config(max_round=10, initial_stack=1000, small_blind_amount=10)\n",
    "config.register_player(name=\"AI_Bot\", algorithm=PokerBot())\n",
    "config.register_player(name=\"p2\", algorithm=FishPlayer())"
   ]
  },
  {
   "cell_type": "code",
   "execution_count": null,
   "metadata": {},
   "outputs": [],
   "source": [
    "game_result = start_poker(config, verbose=1)\n",
    "print(game_result)"
   ]
  },
  {
   "cell_type": "code",
   "execution_count": 51,
   "metadata": {},
   "outputs": [],
   "source": [
    "emulator = Emulator()\n",
    "emulator.set_game_rule(player_num=2, max_round=10, small_blind_amount=5, ante_amount=0)"
   ]
  },
  {
   "cell_type": "code",
   "execution_count": 52,
   "metadata": {},
   "outputs": [],
   "source": [
    "class OneActionModel(BasePokerPlayer):\n",
    "\n",
    "    FOLD, CALL, MIN_RAISE, MAX_RAISE = 0, 1, 2, 3\n",
    "\n",
    "    def set_action(self, action):\n",
    "        self.action = action\n",
    "\n",
    "    def declare_action(self, valid_actions, hole_card, round_state):\n",
    "        if self.FOLD == self.action:\n",
    "            return valid_actions[0]['action'], valid_actions[0]['amount']\n",
    "        elif self.CALL == self.action:\n",
    "            return valid_actions[1]['action'], valid_actions[1]['amount']\n",
    "        elif self.MIN_RAISE == self.action:\n",
    "            return valid_actions[2]['action'], valid_actions[2]['amount']['min']\n",
    "        elif self.MAX_RAISE == self.action:\n",
    "            return valid_actions[2]['action'], valid_actions[2]['amount']['max']\n",
    "        else:\n",
    "            raise Exception(\"Invalid action [ %s ] is set\" % self.action)"
   ]
  },
  {
   "cell_type": "code",
   "execution_count": 59,
   "metadata": {},
   "outputs": [],
   "source": [
    "import uuid\n",
    "\n",
    "# Generate UUIDs for each player\n",
    "player1_uuid = str(uuid.uuid4())\n",
    "player2_uuid = str(uuid.uuid4())\n",
    "\n",
    "# Create instances of the player models\n",
    "player1_model = OneActionModel()\n",
    "player1_model.set_action(OneActionModel.CALL)  # For example, always CALL\n",
    "\n",
    "player2_model = OneActionModel()\n",
    "player2_model.set_action(OneActionModel.MIN_RAISE)  # For example, always MIN_RAISE\n",
    "\n",
    "# Register players with the emulator\n",
    "emulator.register_player(player1_uuid, player1_model)\n",
    "emulator.register_player(player2_uuid, player2_model)\n"
   ]
  },
  {
   "cell_type": "code",
   "execution_count": 58,
   "metadata": {},
   "outputs": [],
   "source": [
    "from pypokerengine.utils.game_state_utils import (\n",
    "    restore_game_state, attach_hole_card, attach_hole_card_from_deck\n",
    ")\n",
    "\n",
    "def setup_game_state(round_state, my_uuid, my_hole_card):\n",
    "    # Restore the game state from the round state\n",
    "    game_state = restore_game_state(round_state)\n",
    "    \n",
    "    # Assign hole cards to each player\n",
    "    for player_info in round_state['seats']:\n",
    "        uuid = player_info['uuid']\n",
    "        if uuid == my_uuid:\n",
    "            # We know our own hole cards\n",
    "            game_state = attach_hole_card(game_state, uuid, my_hole_card)\n",
    "        else:\n",
    "            # Assign random hole cards to opponents\n",
    "            game_state = attach_hole_card_from_deck(game_state, uuid)\n",
    "    \n",
    "    return game_state\n"
   ]
  }
 ],
 "metadata": {
  "kernelspec": {
   "display_name": ".venv",
   "language": "python",
   "name": "python3"
  },
  "language_info": {
   "codemirror_mode": {
    "name": "ipython",
    "version": 3
   },
   "file_extension": ".py",
   "mimetype": "text/x-python",
   "name": "python",
   "nbconvert_exporter": "python",
   "pygments_lexer": "ipython3",
   "version": "3.12.2"
  }
 },
 "nbformat": 4,
 "nbformat_minor": 2
}
